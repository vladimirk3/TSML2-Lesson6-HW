{
 "cells": [
  {
   "cell_type": "code",
   "execution_count": 1,
   "metadata": {},
   "outputs": [],
   "source": [
    "import numpy as np\n",
    "import re\n",
    "import matplotlib.pyplot as plt\n",
    "import seaborn as sns\n",
    "import pandas as pd\n",
    "from hmmlearn.hmm import GaussianHMM\n",
    "%matplotlib inline\n"
   ]
  },
  {
   "cell_type": "code",
   "execution_count": 70,
   "metadata": {},
   "outputs": [],
   "source": [
    "with open('tom_1.txt', 'r', encoding='utf-8',) as f:\n",
    "    text = f.read().lower()\n",
    "mask = re.sub('[^а-яА-Я]',' ', text)\n",
    "words = ' '.join(mask.split())"
   ]
  },
  {
   "cell_type": "code",
   "execution_count": 71,
   "metadata": {},
   "outputs": [
    {
     "data": {
      "text/plain": [
       "642624"
      ]
     },
     "execution_count": 71,
     "metadata": {},
     "output_type": "execute_result"
    }
   ],
   "source": [
    "words"
   ]
  },
  {
   "cell_type": "code",
   "execution_count": 251,
   "metadata": {},
   "outputs": [
    {
     "data": {
      "text/plain": [
       "'лев толстой война и мир том том часть первая часть'"
      ]
     },
     "execution_count": 251,
     "metadata": {},
     "output_type": "execute_result"
    }
   ],
   "source": [
    "words[0:50]"
   ]
  },
  {
   "cell_type": "code",
   "execution_count": 76,
   "metadata": {},
   "outputs": [],
   "source": [
    "RUS = 'абвгдеёжзийклмнопрстуфхцчшщьъыэюя '\n",
    "POS = {l: i for i, l in enumerate(RUS)}"
   ]
  },
  {
   "cell_type": "code",
   "execution_count": 77,
   "metadata": {},
   "outputs": [
    {
     "data": {
      "text/plain": [
       "'абвгдеёжзийклмнопрстуфхцчшщьъыэюя '"
      ]
     },
     "execution_count": 77,
     "metadata": {},
     "output_type": "execute_result"
    }
   ],
   "source": [
    "RUS"
   ]
  },
  {
   "cell_type": "code",
   "execution_count": 80,
   "metadata": {},
   "outputs": [
    {
     "name": "stderr",
     "output_type": "stream",
     "text": [
      "C:\\ProgramFiles\\Anaconda3\\lib\\site-packages\\ipykernel_launcher.py:4: RuntimeWarning: invalid value encountered in true_divide\n",
      "  after removing the cwd from sys.path.\n"
     ]
    }
   ],
   "source": [
    "probabilities = np.zeros((len(RUS), len(RUS)))\n",
    "for cp, cn in zip(words[:-1], words[1:]):\n",
    "    probabilities[POS[cp], POS[cn]] += 1\n",
    "probabilities = (probabilities / probabilities.sum(axis=1)[:, None])"
   ]
  },
  {
   "cell_type": "code",
   "execution_count": 81,
   "metadata": {},
   "outputs": [
    {
     "data": {
      "text/plain": [
       "array([[1.10663539e-04, 9.40640078e-03, 4.84706299e-02, ...,\n",
       "        1.09999557e-02, 3.93740870e-02, 2.35801868e-01],\n",
       "       [7.86927542e-02, 1.72006020e-03, 2.58009030e-03, ...,\n",
       "        4.30015051e-04, 3.19286175e-02, 2.15007525e-02],\n",
       "       [1.49251926e-01, 2.41964754e-04, 5.64584426e-04, ...,\n",
       "        0.00000000e+00, 3.22619672e-03, 1.57882002e-01],\n",
       "       ...,\n",
       "       [0.00000000e+00, 5.55237550e-02, 0.00000000e+00, ...,\n",
       "        6.58271322e-03, 0.00000000e+00, 6.15054379e-01],\n",
       "       [0.00000000e+00, 1.68377165e-03, 1.35503528e-02, ...,\n",
       "        4.40987813e-03, 1.02629891e-02, 5.70237332e-01],\n",
       "       [1.84409936e-02, 4.51971989e-02, 9.22145478e-02, ...,\n",
       "        4.98146321e-04, 9.64679510e-03, 0.00000000e+00]])"
      ]
     },
     "execution_count": 81,
     "metadata": {},
     "output_type": "execute_result"
    }
   ],
   "source": [
    "probabilities"
   ]
  },
  {
   "cell_type": "code",
   "execution_count": 198,
   "metadata": {},
   "outputs": [
    {
     "data": {
      "image/png": "[encoded data removed]",
      "text/plain": [
       "<Figure size 720x432 with 2 Axes>"
      ]
     },
     "metadata": {},
     "output_type": "display_data"
    }
   ],
   "source": [
    "df = pd.DataFrame(probabilities, index=(c for c in RUS), columns=(c for c in RUS))\n",
    "plt.figure(figsize=(10,6))\n",
    "sns.set(font_scale=1.2)\n",
    "sns.heatmap(df)\n",
    "plt.show()"
   ]
  },
  {
   "cell_type": "markdown",
   "metadata": {},
   "source": [
    "Рассчитаем вероятность встретить строку из 4х символов, которая начинается на 'п' и заканчивается на 'р'.\n",
    "Так как мы не знаем буквы на позиции 2 и 3, то перебором всех возможных вариантов посчитаем вероятность для любых сочетаний."
   ]
  },
  {
   "cell_type": "code",
   "execution_count": 134,
   "metadata": {},
   "outputs": [
    {
     "name": "stdout",
     "output_type": "stream",
     "text": [
      "паар 6.610045953452247e-09\n",
      "пабр 1.1959501499230666e-06\n",
      "павр 9.253246050681304e-07\n",
      "пагр 1.6345931341464004e-06\n",
      "падр 3.7350927463710946e-06\n",
      "паер 1.9378942808247883e-06\n",
      "пазр 8.612655788340367e-07\n",
      "паир 3.190135527101422e-08\n",
      "пайр 9.83653892703631e-08\n",
      "пакр 5.423745531074212e-06\n",
      "памр 1.0115912285813325e-07\n",
      "панр 8.090164548300337e-08\n",
      "паор 6.706778088396343e-09\n",
      "папр 4.408767889358891e-06\n",
      "парр 6.569463195453782e-08\n",
      "паср 4.873667849468752e-07\n",
      "патр 6.063180523826191e-06\n",
      "паур 7.055873817650653e-08\n",
      "пафр 2.8615528480829905e-06\n",
      "пахр 2.203868275730565e-07\n",
      "пачр 2.884020342066358e-08\n",
      "пашр 8.525874720447519e-09\n",
      "пащр 3.4785249689226015e-09\n",
      "паэр 6.20049325598465e-10\n",
      "паюр 2.0795311041094053e-07\n",
      "паяр 1.2412592464984886e-07\n",
      "пгар 4.195609158021096e-08\n",
      "пгвр 9.979115947603363e-10\n",
      "пгдр 7.522669954377641e-08\n",
      "пгер 6.234569779682426e-08\n",
      "пгир 1.053925196024511e-08\n",
      "пгкр 6.5232783161540814e-09\n",
      "пгмр 2.032792796464972e-11\n",
      "пгнр 2.2325037988251956e-10\n",
      "пгор 6.308512093898393e-07\n",
      "пгрр 1.627523164292098e-09\n",
      "пгср 2.413123904402655e-10\n",
      "пгтр 2.008300417490883e-10\n",
      "пгур 2.00232636799486e-08\n",
      "пгчр 4.245035608433397e-11\n",
      "пгшр 2.6934674226892883e-12\n",
      "пеар 1.771891330423958e-08\n",
      "пебр 4.199058918723973e-06\n",
      "певр 7.975502638977113e-07\n",
      "пегр 1.2855141456077832e-05\n",
      "педр 9.535526900993362e-06\n",
      "пеер 7.325896319293019e-06\n",
      "пезр 5.216916354041969e-07\n",
      "пеир 9.625052481411501e-08\n",
      "пейр 6.614525308379975e-07\n",
      "пекр 2.7582029451801276e-06\n",
      "пемр 3.148327611604565e-07\n",
      "пенр 2.3721367072288821e-07\n",
      "пеор 7.840498804033573e-07\n",
      "пепр 1.2790215684756597e-05\n",
      "перр 3.7038393600524085e-07\n",
      "песр 1.001967021312047e-06\n",
      "петр 1.0280062424155473e-05\n",
      "пеур 7.697558588807616e-08\n",
      "пефр 1.7756224553160677e-07\n",
      "пехр 5.257118932760653e-07\n",
      "печр 7.846548804123336e-08\n",
      "пешр 1.4062420824796569e-08\n",
      "пещр 2.125296797820381e-08\n",
      "пеюр 2.0375903911066073e-07\n",
      "пеяр 3.678323400424489e-08\n",
      "пиар 4.8510391943192705e-08\n",
      "пибр 7.090394874308183e-07\n",
      "пивр 5.715894142089921e-07\n",
      "пигр 6.653519027586628e-07\n",
      "пидр 2.4776019209101293e-06\n",
      "пиер 4.323901889849776e-06\n",
      "пизр 2.903331831242376e-07\n",
      "пиир 1.3445881391179797e-07\n",
      "пийр 1.4938549695745138e-07\n",
      "пикр 1.703891684093014e-06\n",
      "пимр 8.677163074836089e-08\n",
      "пинр 4.112245415663957e-08\n",
      "пиор 3.1537450405647225e-07\n",
      "пипр 1.0738463396557783e-06\n",
      "пирр 1.3298724675084592e-08\n",
      "писр 2.9693612690002676e-07\n",
      "питр 3.49632419030354e-06\n",
      "пиур 6.69021615557301e-10\n",
      "пифр 7.201858034848032e-08\n",
      "пихр 3.1035624230181484e-07\n",
      "пичр 3.743661165513946e-08\n",
      "пишр 2.53317126359009e-09\n",
      "пищр 1.258579854340048e-09\n",
      "пиюр 6.312022752216466e-08\n",
      "пияр 5.7236401924407974e-08\n",
      "пкар 7.83451691554885e-07\n",
      "пквр 5.573620558354279e-09\n",
      "пкгр 6.63979393080523e-10\n",
      "пкдр 4.090071624593927e-09\n",
      "пкер 1.3214416995243524e-07\n",
      "пкзр 1.6642556421411776e-10\n",
      "пкир 8.177364686717887e-08\n",
      "пккр 1.4636766553757445e-09\n",
      "пкнр 4.429067434730553e-09\n",
      "пкор 1.448610619706313e-06\n",
      "пкрр 5.182252462162258e-09\n",
      "пкср 1.0832772586275916e-09\n",
      "пктр 6.038272592554933e-08\n",
      "пкур 9.831555728995609e-08\n",
      "пкхр 8.778667621569193e-11\n",
      "пкчр 1.519448861049996e-11\n",
      "пкшр 6.748612896638564e-12\n",
      "пкюр 5.158371994198683e-10\n",
      "плар 5.496227723575166e-06\n",
      "плбр 4.282266550554567e-08\n",
      "плвр 2.5719323201053905e-09\n",
      "плгр 2.5680715693361553e-07\n",
      "плдр 5.890112990167464e-07\n",
      "плер 8.418606979975604e-06\n",
      "плзр 1.369539939145893e-09\n",
      "плир 1.7014422081645011e-06\n",
      "плкр 1.0057413025718924e-06\n",
      "плмр 1.7962789560885977e-10\n",
      "плнр 4.024561365285467e-09\n",
      "плор 9.065361356295959e-06\n",
      "плпр 6.389656105541591e-07\n",
      "плср 1.7891082983236323e-07\n",
      "плтр 5.590104175253894e-08\n",
      "плур 6.259339168549343e-07\n",
      "плфр 4.480072633543691e-08\n",
      "плчр 8.377521566780981e-09\n",
      "плшр 1.3883826891958847e-11\n",
      "плщр 2.3370955459759978e-11\n",
      "плыр 5.958494798117568e-07\n",
      "плэр 6.290490769602104e-10\n",
      "плюр 2.2328166704456593e-07\n",
      "пляр 7.765178906464074e-08\n",
      "пнар 4.96641568468959e-07\n",
      "пнбр 1.1308043990252994e-09\n",
      "пнвр 1.455346976004304e-10\n",
      "пнгр 1.6386724277068657e-08\n",
      "пндр 1.1395563021022679e-07\n",
      "пнер 1.1289920667587382e-06\n",
      "пнзр 2.1311519093147854e-10\n",
      "пнир 9.994009508497925e-08\n",
      "пнкр 1.5903166548249904e-08\n",
      "пнмр 3.388125893215036e-12\n",
      "пннр 2.6004237883644643e-09\n",
      "пнор 6.845591743385382e-07\n",
      "пнпр 3.2869402646172628e-09\n",
      "пнрр 5.494370109124225e-11\n",
      "пнср 2.9913899248396e-09\n",
      "пнтр 4.4401982255266994e-08\n",
      "пнур 7.955130449028922e-08\n",
      "пнфр 3.042098787066189e-09\n",
      "пнчр 4.28058512799562e-10\n",
      "пншр 1.8069412731680516e-11\n",
      "пнщр 1.216665818213882e-10\n",
      "пныр 8.435655162959238e-08\n",
      "пнэр 7.119041700714947e-11\n",
      "пнюр 2.3059270646969274e-09\n",
      "пняр 8.559657205342909e-09\n",
      "поар 7.1850613622203396e-09\n",
      "побр 2.9685590346025375e-05\n",
      "повр 1.1739155296498807e-05\n",
      "погр 4.31756617184019e-05\n",
      "подр 4.26436567999867e-05\n",
      "поер 2.5925832694470183e-05\n",
      "позр 1.0216628996432382e-06\n",
      "поир 1.1146014776864262e-06\n",
      "пойр 2.519370563307988e-06\n",
      "покр 1.145343840519788e-05\n",
      "помр 9.911713127555422e-07\n",
      "понр 5.681158297245613e-07\n",
      "поор 1.2514857642615327e-06\n",
      "попр 3.563099936704204e-05\n",
      "порр 8.183376900426427e-07\n",
      "поср 4.5923932017134165e-06\n",
      "потр 4.556425662474314e-05\n",
      "поур 1.38232465852963e-07\n",
      "пофр 1.3440356835985419e-05\n",
      "похр 6.656553609020684e-07\n",
      "почр 2.806677363187053e-07\n",
      "пошр 6.121343383885699e-08\n",
      "пощр 9.891024466638325e-09\n",
      "поэр 4.717916847145482e-08\n",
      "поюр 1.068815877887759e-06\n",
      "пояр 1.4978890684223167e-07\n",
      "ппар 2.2012298446004552e-07\n",
      "ппгр 5.453341400097262e-09\n",
      "ппер 1.241045348209771e-06\n",
      "ппир 4.456003295699816e-08\n",
      "ппкр 1.736417183958027e-08\n",
      "ппнр 1.840998434979358e-10\n",
      "ппор 2.7420038634661e-06\n",
      "пппр 1.0950769399647279e-07\n",
      "ппрр 3.2682037593371914e-08\n",
      "ппср 9.195952902711951e-11\n",
      "пптр 1.4235041556419806e-08\n",
      "ппур 8.048927988010644e-08\n",
      "ппфр 1.9872658022711784e-09\n",
      "ппчр 6.933007481227404e-11\n",
      "ппшр 2.4634292025054676e-11\n",
      "ппыр 2.1260156986683355e-08\n",
      "ппэр 2.790329132687455e-10\n",
      "ппяр 3.5637858905999262e-09\n",
      "прар 6.647792371589927e-05\n",
      "прбр 2.071171218435791e-06\n",
      "првр 6.578565332377887e-07\n",
      "пргр 4.4722997029508744e-06\n",
      "прдр 6.652478411447235e-06\n",
      "прер 0.00012730121833328477\n",
      "прзр 6.68764124387863e-08\n",
      "прир 1.2995011727181824e-05\n",
      "пркр 3.0248408986836324e-06\n",
      "прмр 8.242390854314334e-08\n",
      "прнр 9.592269898481593e-08\n",
      "прор 9.222954954243702e-05\n",
      "прпр 2.431287267240256e-06\n",
      "пррр 9.753794845583899e-09\n",
      "прср 2.911667265167384e-07\n",
      "пртр 7.876230318387574e-06\n",
      "прур 1.5120002040605655e-05\n",
      "прфр 1.0834212893515315e-06\n",
      "прхр 2.8220943064624615e-07\n",
      "прчр 2.9656499953650802e-08\n",
      "пршр 1.9241300434158476e-08\n",
      "прщр 8.912494742472718e-09\n",
      "прыр 6.519296054386554e-06\n",
      "прэр 1.1701821990783606e-08\n",
      "прюр 5.172227031456802e-07\n",
      "пряр 4.45072229099151e-07\n",
      "псар 5.1579306226708095e-09\n",
      "псбр 3.3010537582021093e-10\n",
      "псвр 2.0046442808095396e-09\n",
      "псгр 5.849997344006436e-11\n",
      "псдр 2.3423152063922205e-09\n",
      "псер 2.6400118964673654e-08\n",
      "псзр 4.692141322569225e-11\n",
      "псир 1.8990463004967472e-09\n",
      "пскр 2.5593742115465243e-08\n",
      "псмр 1.5949582057802426e-10\n",
      "пснр 4.858268445966473e-11\n",
      "псор 1.5220410433776453e-08\n",
      "пспр 4.457059264569913e-08\n",
      "псрр 2.7444873278309554e-11\n",
      "псср 4.2349726378458605e-10\n",
      "пстр 5.907889254713975e-08\n",
      "псур 1.639739547789231e-09\n",
      "псфр 4.220988133354252e-10\n",
      "псхр 1.8098622903715465e-10\n",
      "псчр 5.461944953117828e-11\n",
      "псшр 1.9026791702266166e-12\n",
      "псыр 8.341720951058678e-10\n",
      "псэр 2.693958645859002e-12\n",
      "псюр 1.490690794295533e-10\n",
      "псяр 5.887087074868615e-10\n",
      "птар 2.8106204267548305e-07\n",
      "птбр 3.1331763835080483e-09\n",
      "птвр 3.5205116282861253e-08\n",
      "птгр 9.994485020824194e-10\n",
      "птдр 1.4194245923411452e-08\n",
      "птер 6.393181008466079e-07\n",
      "птзр 8.350348549740288e-11\n",
      "птир 5.4919777773777054e-08\n",
      "пткр 2.692781669619569e-08\n",
      "птмр 1.0952258453490462e-10\n",
      "птнр 8.573147203692153e-10\n",
      "птор 1.1736404682006347e-06\n",
      "птпр 2.2430917997597177e-08\n",
      "птрр 4.248378778801684e-09\n",
      "птср 6.522370090145224e-09\n",
      "пттр 8.45786680626669e-09\n",
      "птур 5.6840588887932476e-08\n",
      "птфр 4.9168556905928635e-09\n",
      "птхр 3.0832675467861053e-10\n",
      "птчр 3.9262493964743227e-10\n",
      "птщр 1.709966552573789e-11\n",
      "птыр 4.6149032453306836e-08\n",
      "птэр 2.30125996213854e-10\n",
      "птюр 9.835146202200525e-10\n",
      "птяр 1.3508871727234097e-09\n",
      "пуар 2.7346658657185312e-08\n",
      "пубр 1.5668059755157433e-06\n",
      "пувр 3.8893748542108106e-07\n",
      "пугр 3.6486489029051744e-06\n",
      "пудр 5.838088568389327e-06\n",
      "пуер 5.751138695405937e-07\n",
      "пузр 3.199688197940504e-07\n",
      "пуир 7.855966864330885e-09\n",
      "пуйр 2.019435082037049e-08\n",
      "пукр 2.131860762880904e-06\n",
      "пумр 6.389140380448453e-08\n",
      "пунр 8.120493656698e-09\n",
      "пуор 3.0829836276550076e-08\n",
      "пупр 5.741022324118089e-06\n",
      "пурр 2.402163332002774e-08\n",
      "пуср 3.1315392160599024e-07\n",
      "путр 3.1344698774052906e-06\n",
      "пуур 1.4142979232430875e-09\n",
      "пуфр 6.089831853156158e-08\n",
      "пухр 1.3993243152001003e-07\n",
      "пучр 4.695299337688082e-08\n",
      "пушр 1.1394271938851423e-08\n",
      "пущр 4.8844069278097766e-09\n",
      "пуэр 1.4963832026806062e-08\n",
      "пуюр 4.601699552422031e-07\n",
      "пуяр 5.171821812902929e-09\n",
      "пфар 7.630021284266113e-09\n",
      "пфер 1.581271830069337e-08\n",
      "пфир 8.45298071831597e-09\n",
      "пфкр 7.012530020484385e-10\n",
      "пфмр 8.964001402085132e-12\n",
      "пфор 4.187750795880646e-09\n",
      "пфрр 5.930897938544939e-10\n",
      "пфср 4.138223660151227e-11\n",
      "пфтр 4.132798795382012e-10\n",
      "пфур 1.869180715856754e-09\n",
      "пффр 1.3414189560838375e-09\n",
      "пфыр 4.5922436841472797e-10\n",
      "пфэр 3.139154299357923e-11\n",
      "пцар 1.3372671539519177e-08\n",
      "пцвр 1.4207175424867975e-10\n",
      "пцгр 1.2827629329788724e-09\n",
      "пцер 6.842304189889915e-08\n",
      "пцир 1.660087376706978e-09\n",
      "пцкр 6.099011555218374e-09\n",
      "пцнр 1.1115698667065587e-11\n",
      "пцор 1.6474981356881183e-08\n",
      "пцур 7.172712929650221e-09\n",
      "пцыр 1.5885285346149665e-09\n",
      "пчар 7.469372850580386e-08\n",
      "пчер 2.782975188059429e-07\n",
      "пчир 1.2849535944551162e-08\n",
      "пчкр 1.1764040604975544e-08\n",
      "пчнр 3.02021673145003e-10\n",
      "пчор 5.576659653612441e-09\n",
      "пчрр 2.069122295132075e-11\n",
      "пчтр 1.851325576681432e-07\n",
      "пчур 1.2484284220138722e-08\n",
      "пчшр 2.560316302651672e-11\n",
      "пчэр 2.5778429014201652e-11\n",
      "пшар 1.1119891799724294e-07\n",
      "пшвр 4.057065100686366e-10\n",
      "пшер 4.716670187208125e-07\n",
      "пшир 4.8772033062237224e-08\n",
      "пшкр 4.9779845221881935e-08\n",
      "пшмр 6.800447063284242e-11\n",
      "пшнр 5.023249125671396e-10\n",
      "пшор 4.5078967227101725e-08\n",
      "пшпр 3.207046703928441e-08\n",
      "пшрр 7.351984400976161e-12\n",
      "пшср 1.962137894296198e-11\n",
      "пштр 1.9987570097013253e-08\n",
      "пшур 1.4416685516568294e-08\n",
      "пьбр 4.113215905840022e-07\n",
      "пьвр 2.765373563374284e-09\n",
      "пьгр 1.527484751947392e-07\n",
      "пьдр 1.3269399770943255e-07\n",
      "пьер 4.560739735942193e-06\n",
      "пьзр 6.111067338431346e-08\n",
      "пьир 4.248140019490427e-08\n",
      "пькр 3.0132020116127627e-06\n",
      "пьмр 2.7940651440310665e-08\n",
      "пьнр 3.483442970475181e-08\n",
      "пьор 1.3656306948801003e-07\n",
      "пьср 2.4965376945447826e-07\n",
      "пьтр 2.8939682369878154e-07\n",
      "пьфр 7.707247551391653e-08\n",
      "пьчр 3.4954924667914098e-09\n",
      "пьшр 7.732736662039303e-09\n",
      "пьщр 2.5128741481257093e-10\n",
      "пьюр 2.0721321325561707e-07\n",
      "пьяр 3.729367564405857e-08\n",
      "пыбр 6.680618182835967e-07\n",
      "пывр 2.1512939410558045e-07\n",
      "пыгр 1.42739677686293e-07\n",
      "пыдр 1.0526441980795715e-07\n",
      "пыер 1.5130000078551252e-06\n",
      "пызр 7.558629515637073e-09\n",
      "пыир 2.474422062033783e-09\n",
      "пыйр 1.441572967371211e-07\n",
      "пыкр 1.7136165295092363e-07\n",
      "пымр 4.09331658468638e-08\n",
      "пынр 4.090702899110337e-09\n",
      "пыор 1.6690066450029409e-09\n",
      "пыпр 5.628176835356524e-07\n",
      "пырр 6.344990242440447e-09\n",
      "пыср 7.551585207376986e-08\n",
      "пытр 5.180147761354422e-07\n",
      "пыур 1.8375492706994401e-09\n",
      "пыхр 1.4512860165487903e-07\n",
      "пычр 3.8185276731891574e-09\n",
      "пышр 3.3817716391322816e-09\n",
      "пыщр 1.7198222429540785e-11\n",
      "пэгр 1.0099510156673518e-09\n",
      "пэдр 2.0737450762571584e-10\n",
      "пэзр 2.5314289775055786e-11\n",
      "пэйр 7.575175251835499e-11\n",
      "пэкр 4.897940852145272e-09\n",
      "пэмр 2.213469633684412e-11\n",
      "пэнр 5.5791862858267615e-11\n",
      "пэпр 4.2947297076739155e-09\n",
      "пэрр 8.327601311311474e-11\n",
      "пэср 6.897463084656237e-10\n",
      "пэтр 2.118572174621406e-07\n",
      "пэхр 8.011716363192636e-11\n",
      "пэшр 1.0265030090292782e-12\n",
      "пябр 6.566998676975859e-08\n",
      "пявр 7.935242199366271e-08\n",
      "пягр 5.685884936957435e-07\n",
      "пядр 1.3979155131798713e-06\n",
      "пяер 2.405973058136585e-07\n",
      "пязр 3.667910769453209e-07\n",
      "пяир 3.222848829388414e-09\n",
      "пяйр 2.693506862123784e-09\n",
      "пякр 1.0554921158991182e-07\n",
      "пямр 1.3642094664908781e-08\n",
      "пянр 1.0607779830985713e-08\n",
      "пяпр 9.544237883954906e-08\n",
      "пярр 1.063594531130084e-09\n",
      "пяср 1.2557875185708526e-07\n",
      "пятр 2.011615408534228e-06\n",
      "пяфр 9.814772724380572e-09\n",
      "пяхр 3.5213441957468134e-08\n",
      "пячр 5.204626216749816e-09\n",
      "пяшр 3.041615987851378e-11\n",
      "пящр 2.380809313879213e-09\n",
      "пяюр 2.5573796669119853e-08\n",
      "пяяр 9.924759801282849e-09\n"
     ]
    }
   ],
   "source": [
    "start = POS['п']\n",
    "end = POS['р']\n",
    "prior = 1. / len(RUS)\n",
    "res = dict()\n",
    "for c1 in RUS[:-1]:\n",
    "    for c2 in RUS[:-1]:\n",
    "        prob = prior * probabilities[start, POS[c1]] * probabilities[POS[c1], POS[c2]] * probabilities[POS[c2], end]\n",
    "        if prob > 0:\n",
    "            #print(''.join(['п', c1, c2, 'р']), prob)\n",
    "        tmp = ''.join(['п', c1, c2, 'р'])\n",
    "        res[prob] = tmp"
   ]
  },
  {
   "cell_type": "code",
   "execution_count": 135,
   "metadata": {},
   "outputs": [
    {
     "data": {
      "text/plain": [
       "0.00012730121833328477"
      ]
     },
     "execution_count": 135,
     "metadata": {},
     "output_type": "execute_result"
    }
   ],
   "source": [
    "max(list(res.keys()))"
   ]
  },
  {
   "cell_type": "markdown",
   "metadata": {},
   "source": [
    "В результате максимальную вероятность иммем для слова \"прер\""
   ]
  },
  {
   "cell_type": "code",
   "execution_count": 136,
   "metadata": {},
   "outputs": [
    {
     "data": {
      "text/plain": [
       "'прер'"
      ]
     },
     "execution_count": 136,
     "metadata": {},
     "output_type": "execute_result"
    }
   ],
   "source": [
    "res[max(list(res.keys()))]"
   ]
  },
  {
   "cell_type": "code",
   "execution_count": 264,
   "metadata": {},
   "outputs": [
    {
     "data": {
      "text/html": [
       "<div>\n",
       "<style scoped>\n",
       "    .dataframe tbody tr th:only-of-type {\n",
       "        vertical-align: middle;\n",
       "    }\n",
       "\n",
       "    .dataframe tbody tr th {\n",
       "        vertical-align: top;\n",
       "    }\n",
       "\n",
       "    .dataframe thead th {\n",
       "        text-align: right;\n",
       "    }\n",
       "</style>\n",
       "<table border=\"1\" class=\"dataframe\">\n",
       "  <thead>\n",
       "    <tr style=\"text-align: right;\">\n",
       "      <th></th>\n",
       "      <th>probability</th>\n",
       "      <th>word</th>\n",
       "    </tr>\n",
       "  </thead>\n",
       "  <tbody>\n",
       "    <tr>\n",
       "      <th>257</th>\n",
       "      <td>0.000127</td>\n",
       "      <td>прер</td>\n",
       "    </tr>\n",
       "    <tr>\n",
       "      <th>264</th>\n",
       "      <td>0.000092</td>\n",
       "      <td>прор</td>\n",
       "    </tr>\n",
       "    <tr>\n",
       "      <th>252</th>\n",
       "      <td>0.000066</td>\n",
       "      <td>прар</td>\n",
       "    </tr>\n",
       "    <tr>\n",
       "      <th>223</th>\n",
       "      <td>0.000046</td>\n",
       "      <td>потр</td>\n",
       "    </tr>\n",
       "    <tr>\n",
       "      <th>209</th>\n",
       "      <td>0.000043</td>\n",
       "      <td>погр</td>\n",
       "    </tr>\n",
       "    <tr>\n",
       "      <th>210</th>\n",
       "      <td>0.000043</td>\n",
       "      <td>подр</td>\n",
       "    </tr>\n",
       "    <tr>\n",
       "      <th>220</th>\n",
       "      <td>0.000036</td>\n",
       "      <td>попр</td>\n",
       "    </tr>\n",
       "    <tr>\n",
       "      <th>207</th>\n",
       "      <td>0.000030</td>\n",
       "      <td>побр</td>\n",
       "    </tr>\n",
       "    <tr>\n",
       "      <th>211</th>\n",
       "      <td>0.000026</td>\n",
       "      <td>поер</td>\n",
       "    </tr>\n",
       "    <tr>\n",
       "      <th>269</th>\n",
       "      <td>0.000015</td>\n",
       "      <td>прур</td>\n",
       "    </tr>\n",
       "  </tbody>\n",
       "</table>\n",
       "</div>"
      ],
      "text/plain": [
       "     probability  word\n",
       "257     0.000127  прер\n",
       "264     0.000092  прор\n",
       "252     0.000066  прар\n",
       "223     0.000046  потр\n",
       "209     0.000043  погр\n",
       "210     0.000043  подр\n",
       "220     0.000036  попр\n",
       "207     0.000030  побр\n",
       "211     0.000026  поер\n",
       "269     0.000015  прур"
      ]
     },
     "execution_count": 264,
     "metadata": {},
     "output_type": "execute_result"
    }
   ],
   "source": [
    "pd.DataFrame(res.items(), columns = ['probability', 'word']).sort_values(by=['probability'], ascending = False).head(10)"
   ]
  },
  {
   "cell_type": "markdown",
   "metadata": {},
   "source": [
    "Сгенерируем слово, начинающееся с бувы \"б\" и имеющее длинну 8 символов "
   ]
  },
  {
   "cell_type": "code",
   "execution_count": 159,
   "metadata": {},
   "outputs": [
    {
     "name": "stdout",
     "output_type": "stream",
     "text": [
      "бывшенин\n"
     ]
    }
   ],
   "source": [
    "s = []\n",
    "start = 'б'\n",
    "s.append(start)\n",
    "length = 8\n",
    "pro = probabilities[:-1, :-1]\n",
    "for i in range(length-1):\n",
    "    index = POS[s[i]]\n",
    "    next_char = np.random.choice(list(POS), p=probabilities[index])\n",
    "    s.append(next_char)\n",
    "\n",
    "print (''.join(s))"
   ]
  },
  {
   "cell_type": "markdown",
   "metadata": {},
   "source": [
    "Построим наивный прогноз временного ряда инекса Доу-Джонса"
   ]
  },
  {
   "cell_type": "code",
   "execution_count": 220,
   "metadata": {},
   "outputs": [
    {
     "data": {
      "text/plain": [
       "[<matplotlib.lines.Line2D at 0x21724aaaac8>]"
      ]
     },
     "execution_count": 220,
     "metadata": {},
     "output_type": "execute_result"
    },
    {
     "data": {
      "image/png": "[encoded data removed]",
      "text/plain": [
       "<Figure size 432x288 with 1 Axes>"
      ]
     },
     "metadata": {},
     "output_type": "display_data"
    }
   ],
   "source": [
    "series = pd.read_csv(\"weekly-closings-of-the-dowjones-.csv\")['Close']\n",
    "values = series.values.reshape(-1,1)\n",
    "plt.plot(series)"
   ]
  },
  {
   "cell_type": "code",
   "execution_count": 221,
   "metadata": {},
   "outputs": [
    {
     "name": "stderr",
     "output_type": "stream",
     "text": [
      "C:\\ProgramFiles\\Anaconda3\\lib\\site-packages\\sklearn\\cluster\\_kmeans.py:882: UserWarning: KMeans is known to have a memory leak on Windows with MKL, when there are less chunks than available threads. You can avoid it by setting the environment variable OMP_NUM_THREADS=1.\n",
      "  f\"KMeans is known to have a memory leak on Windows \"\n"
     ]
    },
    {
     "name": "stdout",
     "output_type": "stream",
     "text": [
      "1 -894.2620483582102\n",
      "2 -820.6341453620578\n",
      "3 -786.837533266773\n",
      "4 -752.0201472668962\n",
      "5 -737.1181111930919\n",
      "6 -729.5671112589437\n",
      "7 -713.7233991716985\n",
      "8 -702.1057754508196\n",
      "9 -690.9832936468097\n"
     ]
    }
   ],
   "source": [
    "for n in range(1, 10):\n",
    "    model = GaussianHMM(n_components=n,\n",
    "                        covariance_type=\"diag\",\n",
    "                        n_iter=1000)\n",
    "    model.fit(values)\n",
    "    print (n, model.score(values))"
   ]
  },
  {
   "cell_type": "code",
   "execution_count": 222,
   "metadata": {},
   "outputs": [
    {
     "data": {
      "text/plain": [
       "[<matplotlib.lines.Line2D at 0x217253bcc48>]"
      ]
     },
     "execution_count": 222,
     "metadata": {},
     "output_type": "execute_result"
    },
    {
     "data": {
      "image/png": "[encoded data removed]",
      "text/plain": [
       "<Figure size 864x432 with 1 Axes>"
      ]
     },
     "metadata": {},
     "output_type": "display_data"
    }
   ],
   "source": [
    "\n",
    "model = GaussianHMM(n_components=10,\n",
    "                        covariance_type=\"diag\",\n",
    "                        n_iter=1000)\n",
    "model.fit(values)\n",
    "labels = model.predict(values)\n",
    "means = np.zeros_like(values)\n",
    "for i in range(model.n_components):\n",
    "    means[labels == i] = model.means_[i]\n",
    "    \n",
    "plt.figure(figsize=(12, 6))\n",
    "plt.plot(values)\n",
    "plt.plot(means, linewidth=3)"
   ]
  },
  {
   "cell_type": "markdown",
   "metadata": {},
   "source": [
    "при 10 компонентах достаточно хорошо описывается ВР. \n",
    "\n",
    "вот матрица переходных состояний"
   ]
  },
  {
   "cell_type": "code",
   "execution_count": 229,
   "metadata": {},
   "outputs": [
    {
     "data": {
      "text/plain": [
       "<matplotlib.axes._subplots.AxesSubplot at 0x21724528c88>"
      ]
     },
     "execution_count": 229,
     "metadata": {},
     "output_type": "execute_result"
    },
    {
     "data": {
      "image/png": "[encoded data removed]",
      "text/plain": [
       "<Figure size 432x288 with 2 Axes>"
      ]
     },
     "metadata": {},
     "output_type": "display_data"
    }
   ],
   "source": [
    "sns.heatmap(model.transmat_)"
   ]
  },
  {
   "cell_type": "markdown",
   "metadata": {},
   "source": [
    "Попробуем прдсказать методом наивного байеса. у нас есть матрица вероятностей переходов между состояниями. берем последний эелмент известно последовательности и согласно матрицы находим следующее скрытое состояние, а уже на его основе наблюдаемое значение."
   ]
  },
  {
   "cell_type": "code",
   "execution_count": 237,
   "metadata": {},
   "outputs": [],
   "source": [
    "hidden_series = labels[-1]\n",
    "prediction = []\n",
    "for i in range(20):\n",
    "    next = np.random.choice(10, p=model.transmat_[hidden_series])\n",
    "    prediction.append(model.means_[next])"
   ]
  },
  {
   "cell_type": "code",
   "execution_count": 243,
   "metadata": {},
   "outputs": [
    {
     "data": {
      "text/plain": [
       "[array([810.67176508]),\n",
       " array([810.67176508]),\n",
       " array([810.67176508]),\n",
       " array([810.67176508]),\n",
       " array([850.79754797]),\n",
       " array([810.67176508]),\n",
       " array([810.67176508]),\n",
       " array([810.67176508]),\n",
       " array([810.67176508]),\n",
       " array([850.79754797]),\n",
       " array([810.67176508]),\n",
       " array([810.67176508]),\n",
       " array([810.67176508]),\n",
       " array([810.67176508]),\n",
       " array([810.67176508]),\n",
       " array([810.67176508]),\n",
       " array([810.67176508]),\n",
       " array([850.79754797]),\n",
       " array([810.67176508]),\n",
       " array([810.67176508])]"
      ]
     },
     "execution_count": 243,
     "metadata": {},
     "output_type": "execute_result"
    }
   ],
   "source": [
    "prediction"
   ]
  },
  {
   "cell_type": "code",
   "execution_count": 244,
   "metadata": {},
   "outputs": [
    {
     "data": {
      "text/plain": [
       "range(162, 20)"
      ]
     },
     "execution_count": 244,
     "metadata": {},
     "output_type": "execute_result"
    }
   ],
   "source": [
    "range(len(values), 20)"
   ]
  },
  {
   "cell_type": "code",
   "execution_count": 248,
   "metadata": {},
   "outputs": [
    {
     "data": {
      "text/plain": [
       "<matplotlib.legend.Legend at 0x21726eb3cc8>"
      ]
     },
     "execution_count": 248,
     "metadata": {},
     "output_type": "execute_result"
    },
    {
     "data": {
      "image/png": "[encoded data removed]",
      "text/plain": [
       "<Figure size 864x432 with 1 Axes>"
      ]
     },
     "metadata": {},
     "output_type": "display_data"
    }
   ],
   "source": [
    "plt.figure(figsize=(12, 6))\n",
    "plt.plot(values, label = 'original')\n",
    "plt.plot(means, linewidth=3, label = 'MHH')\n",
    "plt.plot(range(len(values)-1, len(values) + 20-1), prediction, label = 'naive baes preditction')\n",
    "plt.legend()"
   ]
  }
 ],
 "metadata": {
  "kernelspec": {
   "display_name": "Python 3",
   "language": "python",
   "name": "python3"
  },
  "language_info": {
   "codemirror_mode": {
    "name": "ipython",
    "version": 3
   },
   "file_extension": ".py",
   "mimetype": "text/x-python",
   "name": "python",
   "nbconvert_exporter": "python",
   "pygments_lexer": "ipython3",
   "version": "3.7.4"
  }
 },
 "nbformat": 4,
 "nbformat_minor": 2
}
